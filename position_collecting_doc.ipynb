{
 "cells": [
  {
   "cell_type": "markdown",
   "id": "fbccf1dd",
   "metadata": {},
   "source": [
    "# 第一步，导入网页链接CSV文件，把每个网页转换成单独文本文件保存"
   ]
  },
  {
   "cell_type": "code",
   "execution_count": 1,
   "id": "32f75ec1",
   "metadata": {},
   "outputs": [],
   "source": [
    "import os\n",
    "import pandas as pd\n",
    "import requests\n",
    "from bs4 import BeautifulSoup\n",
    "\n",
    "# 步骤1：从Excel文件读取URLs\n",
    "# 注意：请将下面的路径替换为你的Excel文件的真实路径\n",
    "# 并确保Excel文件中的工作表名和列名与下面的代码一致\n",
    "excel_file_path = 'doc_and_postdoc/doc/doc_position.xlsx'\n",
    "sheet_name = 'Sheet1'  # 更改为你的sheet名\n",
    "url_column = '项目网站'   # 更改为含有URL的列名\n"
   ]
  },
  {
   "cell_type": "code",
   "execution_count": null,
   "id": "c85130ac",
   "metadata": {},
   "outputs": [],
   "source": []
  },
  {
   "cell_type": "code",
   "execution_count": 2,
   "id": "0cce878f",
   "metadata": {
    "scrolled": true
   },
   "outputs": [
    {
     "name": "stdout",
     "output_type": "stream",
     "text": [
      "https://kth.varbi.com/en/what:job/jobID:714021/type:job/where:51/apply:1\n",
      "https://www.ncl.ac.uk/postgraduate/fees-funding/search-funding/?code=ph044\n",
      "https://www.bcu.ac.uk/research/our-phds/phd-opportunities/the-impact-of-alternative-active-travel-on-peoples-sport-health-and-mobile-lives\n",
      "https://efzu.fa.em2.oraclecloud.com/hcmUI/CandidateExperience/en/sites/CX_1/job/3173/\n",
      "https://kth.varbi.com/en/what:job/jobID:714397/type:job/where:51/apply:1\n",
      "https://vacatures.uva.nl/UvA/job/PhD-Biodiverse-Urban-Waterfronts/792378702/\n",
      "https://www.kth.se/lediga-jobb/706790?l=en\n",
      "https://www.ru.nl/en/working-at/job-opportunities/phd-candidate-spatial-planning-and-flood-risk-management\n",
      "https://www.ncl.ac.uk/postgraduate/fees-funding/search-funding/?code=ph047\n",
      "https://www.academictransfer.com/en/338098/phd-position-in-public-economics-of-housing-10-fte/?utm_source=ATemailalert&utm_medium=email&utm_campaign=job_click\n",
      "https://www.uu.nl/en/organisation/working-at-utrecht-university/jobs/three-phd-positions-on-delta-adaptation\n",
      "https://www.jobs.ac.uk/job/DFY185/phd-studentship-in-shaping-healthy-urban-environments-from-the-microbiome-to-the-metropololis\n",
      "https://www.eur.nl/en/vacancies/phd-position-digital-heritage\n",
      "https://vacatures.uva.nl/UvA/job/Open-PhD-Position-Multimodal-Experimentations-in-More-Than-Human-Anthropology/792670802/\n",
      "https://www.eur.nl/en/vacancies/phd-position-cultural-mediators\n",
      "https://www.ugent.be/en/work/scientific/doctoral-fellow-14\n",
      "https://www.lboro.ac.uk/study/postgraduate/research-degrees/phd-opportunities/advancing-public-service-design/\n",
      "https://www.lboro.ac.uk/study/postgraduate/research-degrees/phd-opportunities/impact-of-new-technologies-on-creative-industries/\n"
     ]
    }
   ],
   "source": [
    "df = pd.read_excel(excel_file_path, sheet_name=sheet_name, engine='openpyxl')\n",
    "for i, url in enumerate(df[url_column]):\n",
    "    print(url) #检查确认每个网址都被导入"
   ]
  },
  {
   "cell_type": "code",
   "execution_count": 3,
   "id": "7b024a74",
   "metadata": {
    "scrolled": true
   },
   "outputs": [],
   "source": [
    "# 定义一个文件夹来存储抓取的文本文件\n",
    "folder_path = 'doc_and_postdoc/doc'\n",
    "if not os.path.exists(folder_path):\n",
    "    os.makedirs(folder_path)"
   ]
  },
  {
   "cell_type": "code",
   "execution_count": 4,
   "id": "16df25fe",
   "metadata": {
    "scrolled": false
   },
   "outputs": [
    {
     "name": "stdout",
     "output_type": "stream",
     "text": [
      "Processing: 0\n",
      "https://kth.varbi.com/en/what:job/jobID:714021/type:job/where:51/apply:1\n",
      "---- collected. Save as page_0000.txt\n",
      "Processing: 1\n",
      "https://www.ncl.ac.uk/postgraduate/fees-funding/search-funding/?code=ph044\n",
      "---- collected. Save as page_0001.txt\n",
      "Processing: 2\n",
      "https://www.bcu.ac.uk/research/our-phds/phd-opportunities/the-impact-of-alternative-active-travel-on-peoples-sport-health-and-mobile-lives\n",
      "---- collected. Save as page_0002.txt\n",
      "Processing: 3\n",
      "https://efzu.fa.em2.oraclecloud.com/hcmUI/CandidateExperience/en/sites/CX_1/job/3173/\n",
      "---- collected. Save as page_0003.txt\n",
      "Processing: 4\n",
      "https://kth.varbi.com/en/what:job/jobID:714397/type:job/where:51/apply:1\n",
      "---- collected. Save as page_0004.txt\n",
      "Processing: 5\n",
      "https://vacatures.uva.nl/UvA/job/PhD-Biodiverse-Urban-Waterfronts/792378702/\n",
      "---- collected. Save as page_0005.txt\n",
      "Processing: 6\n",
      "https://www.kth.se/lediga-jobb/706790?l=en\n",
      "---- collected. Save as page_0006.txt\n",
      "Processing: 7\n",
      "https://www.ru.nl/en/working-at/job-opportunities/phd-candidate-spatial-planning-and-flood-risk-management\n",
      "---- collected. Save as page_0007.txt\n",
      "Processing: 8\n",
      "https://www.ncl.ac.uk/postgraduate/fees-funding/search-funding/?code=ph047\n",
      "---- collected. Save as page_0008.txt\n",
      "Processing: 9\n",
      "https://www.academictransfer.com/en/338098/phd-position-in-public-economics-of-housing-10-fte/?utm_source=ATemailalert&utm_medium=email&utm_campaign=job_click\n",
      "---- collected. Save as page_0009.txt\n",
      "Processing: 10\n",
      "https://www.uu.nl/en/organisation/working-at-utrecht-university/jobs/three-phd-positions-on-delta-adaptation\n",
      "---- collected. Save as page_0010.txt\n",
      "Processing: 11\n",
      "https://www.jobs.ac.uk/job/DFY185/phd-studentship-in-shaping-healthy-urban-environments-from-the-microbiome-to-the-metropololis\n",
      "---- collected. Save as page_0011.txt\n",
      "Processing: 12\n",
      "https://www.eur.nl/en/vacancies/phd-position-digital-heritage\n",
      "---- collected. Save as page_0012.txt\n",
      "Processing: 13\n",
      "https://vacatures.uva.nl/UvA/job/Open-PhD-Position-Multimodal-Experimentations-in-More-Than-Human-Anthropology/792670802/\n",
      "---- collected. Save as page_0013.txt\n",
      "Processing: 14\n",
      "https://www.eur.nl/en/vacancies/phd-position-cultural-mediators\n",
      "---- collected. Save as page_0014.txt\n",
      "Processing: 15\n",
      "https://www.ugent.be/en/work/scientific/doctoral-fellow-14\n",
      "An error occurred when processing https://www.ugent.be/en/work/scientific/doctoral-fellow-14: Message: unknown error: net::ERR_CONNECTION_CLOSED\n",
      "  (Session info: chrome-headless-shell=124.0.6367.60)\n",
      "Stacktrace:\n",
      "\tGetHandleVerifier [0x00007FF7D2D3F922+3045234]\n",
      "\t(No symbol) [0x00007FF7D29E3652]\n",
      "\t(No symbol) [0x00007FF7D28A7564]\n",
      "\t(No symbol) [0x00007FF7D289FE33]\n",
      "\t(No symbol) [0x00007FF7D2890C64]\n",
      "\t(No symbol) [0x00007FF7D2892494]\n",
      "\t(No symbol) [0x00007FF7D2890F91]\n",
      "\t(No symbol) [0x00007FF7D28908D4]\n",
      "\t(No symbol) [0x00007FF7D28906C0]\n",
      "\t(No symbol) [0x00007FF7D288E674]\n",
      "\t(No symbol) [0x00007FF7D288ECBC]\n",
      "\t(No symbol) [0x00007FF7D28AA279]\n",
      "\t(No symbol) [0x00007FF7D2939B1E]\n",
      "\t(No symbol) [0x00007FF7D2919DAA]\n",
      "\t(No symbol) [0x00007FF7D29391C4]\n",
      "\t(No symbol) [0x00007FF7D2919B53]\n",
      "\t(No symbol) [0x00007FF7D28E813C]\n",
      "\t(No symbol) [0x00007FF7D28E8D71]\n",
      "\tGetHandleVerifier [0x00007FF7D2D6E89D+3237613]\n",
      "\tGetHandleVerifier [0x00007FF7D2DB0BA7+3508727]\n",
      "\tGetHandleVerifier [0x00007FF7D2DA976F+3478975]\n",
      "\tGetHandleVerifier [0x00007FF7D2B1F1C6+815126]\n",
      "\t(No symbol) [0x00007FF7D29EED0F]\n",
      "\t(No symbol) [0x00007FF7D29E9854]\n",
      "\t(No symbol) [0x00007FF7D29E99E2]\n",
      "\t(No symbol) [0x00007FF7D29DA574]\n",
      "\tBaseThreadInitThunk [0x00007FFAD8A6257D+29]\n",
      "\tRtlUserThreadStart [0x00007FFADA2EAA58+40]\n",
      ". Skipping...\n",
      "Processing: 16\n",
      "https://www.lboro.ac.uk/study/postgraduate/research-degrees/phd-opportunities/advancing-public-service-design/\n",
      "---- collected. Save as page_0016.txt\n",
      "Processing: 17\n",
      "https://www.lboro.ac.uk/study/postgraduate/research-degrees/phd-opportunities/impact-of-new-technologies-on-creative-industries/\n",
      "---- collected. Save as page_0017.txt\n",
      "web information collected\n"
     ]
    }
   ],
   "source": [
    "from selenium import webdriver\n",
    "from selenium.common.exceptions import TimeoutException \n",
    "import time\n",
    "\n",
    "valid_page = []\n",
    "\n",
    "options = webdriver.ChromeOptions()\n",
    "options.add_argument('--headless')  # 使用无头模式运行（无GUI）\n",
    "options.add_argument('--disable-gpu')  # 禁用GPU加速（通常用在无GUI环境下）\n",
    "options.add_argument('--no-sandbox')\n",
    "\n",
    "for i, url in enumerate(df[url_column]):\n",
    "    \n",
    "    print(\"Processing: \" + str(i))\n",
    "    print(url)\n",
    "\n",
    "    try:\n",
    "        # 使用Chrome WebDriver\n",
    "        with webdriver.Chrome(options=options) as driver:\n",
    "            driver.get(url)\n",
    "\n",
    "            # 可选：等待一些时间，让JavaScript有时间加载和重定向\n",
    "            time.sleep(5)  \n",
    "\n",
    "            # 获取网页的源代码\n",
    "            page_source = driver.page_source\n",
    "\n",
    "        # 使用BeautifulSoup解析网页内容\n",
    "        soup = BeautifulSoup(page_source, 'html.parser')\n",
    "        \n",
    "        # 移除不需要的标签\n",
    "        for tag in soup(['script', 'style', 'header', 'nav', 'footer', 'aside']):\n",
    "            tag.extract()\n",
    "\n",
    "        # 提取纯文本内容（无HTML标签）\n",
    "        page_content = soup.get_text(separator='\\n', strip=True)\n",
    "        #page_content += '\\n' + 'The web URL: ' + url\n",
    "\n",
    "        # 定义文件名及其路径\n",
    "        index_i = \"\"\n",
    "        for x in range(4-len(str(i))):\n",
    "            index_i += \"0\"\n",
    "        index_i += str(i)   \n",
    "        file_name = f'page_{index_i}.txt'  \n",
    "        file_path = os.path.join(folder_path, file_name)\n",
    "        \n",
    "        #收集有效网址\n",
    "        valid_page.append(url)\n",
    "\n",
    "\n",
    "        # 将内容写入文件\n",
    "        with open(file_path, 'w', encoding='utf-8') as file:\n",
    "            file.write(page_content)\n",
    "\n",
    "        print(\"---- collected. Save as \" + file_name)\n",
    "        \n",
    "    except TimeoutException:\n",
    "        # 处理超时异常\n",
    "        print(f\"Timeout when accessing {url}. Skipping...\")\n",
    "        \n",
    "    except Exception as e:\n",
    "        # 处理其他类型的异常\n",
    "        print(f\"An error occurred when processing {url}: {str(e)}. Skipping...\")\n",
    "\n",
    "\n",
    "print(\"web information collected\")"
   ]
  },
  {
   "cell_type": "code",
   "execution_count": 5,
   "id": "7ce54c67",
   "metadata": {},
   "outputs": [
    {
     "name": "stdout",
     "output_type": "stream",
     "text": [
      "['https://kth.varbi.com/en/what:job/jobID:714021/type:job/where:51/apply:1', 'https://www.ncl.ac.uk/postgraduate/fees-funding/search-funding/?code=ph044', 'https://www.bcu.ac.uk/research/our-phds/phd-opportunities/the-impact-of-alternative-active-travel-on-peoples-sport-health-and-mobile-lives', 'https://efzu.fa.em2.oraclecloud.com/hcmUI/CandidateExperience/en/sites/CX_1/job/3173/', 'https://kth.varbi.com/en/what:job/jobID:714397/type:job/where:51/apply:1', 'https://vacatures.uva.nl/UvA/job/PhD-Biodiverse-Urban-Waterfronts/792378702/', 'https://www.kth.se/lediga-jobb/706790?l=en', 'https://www.ru.nl/en/working-at/job-opportunities/phd-candidate-spatial-planning-and-flood-risk-management', 'https://www.ncl.ac.uk/postgraduate/fees-funding/search-funding/?code=ph047', 'https://www.academictransfer.com/en/338098/phd-position-in-public-economics-of-housing-10-fte/?utm_source=ATemailalert&utm_medium=email&utm_campaign=job_click', 'https://www.uu.nl/en/organisation/working-at-utrecht-university/jobs/three-phd-positions-on-delta-adaptation', 'https://www.jobs.ac.uk/job/DFY185/phd-studentship-in-shaping-healthy-urban-environments-from-the-microbiome-to-the-metropololis', 'https://www.eur.nl/en/vacancies/phd-position-digital-heritage', 'https://vacatures.uva.nl/UvA/job/Open-PhD-Position-Multimodal-Experimentations-in-More-Than-Human-Anthropology/792670802/', 'https://www.eur.nl/en/vacancies/phd-position-cultural-mediators', 'https://www.lboro.ac.uk/study/postgraduate/research-degrees/phd-opportunities/advancing-public-service-design/', 'https://www.lboro.ac.uk/study/postgraduate/research-degrees/phd-opportunities/impact-of-new-technologies-on-creative-industries/']\n"
     ]
    }
   ],
   "source": [
    "print(valid_page) #查看有效网页"
   ]
  },
  {
   "cell_type": "code",
   "execution_count": null,
   "id": "a9541a53",
   "metadata": {},
   "outputs": [],
   "source": []
  },
  {
   "cell_type": "code",
   "execution_count": 6,
   "id": "74162427",
   "metadata": {},
   "outputs": [],
   "source": [
    "#将有效网址写入csv\n",
    "import csv\n",
    "valid_page_path = 'doc_and_postdoc/doc/valid_page.csv'\n",
    "\n",
    "# 打开CSV文件\n",
    "with open(valid_page_path, 'w', newline='') as file:\n",
    "    writer = csv.writer(file)\n",
    "    column = ['valid_page']\n",
    "    writer.writerow(column)\n",
    "    # 写入列表数据\n",
    "    for value in valid_page:\n",
    "        writer.writerow([value])"
   ]
  },
  {
   "cell_type": "markdown",
   "id": "0516efa6",
   "metadata": {},
   "source": [
    "# 第二步，调用gpt，把每个txt内容总结概括"
   ]
  },
  {
   "cell_type": "code",
   "execution_count": 10,
   "id": "bca69f4f",
   "metadata": {},
   "outputs": [
    {
     "name": "stdout",
     "output_type": "stream",
     "text": [
      "Requirement already satisfied: openai in d:\\anaconda\\lib\\site-packages (1.9.0)\n",
      "Collecting openai\n",
      "  Obtaining dependency information for openai from https://files.pythonhosted.org/packages/19/50/5c4a8bdc5891d18d8e08a5d6c6a157dd0edfe0263470a32ba6e955b72b28/openai-1.23.1-py3-none-any.whl.metadata\n",
      "  Downloading openai-1.23.1-py3-none-any.whl.metadata (21 kB)\n",
      "Requirement already satisfied: anyio<5,>=3.5.0 in d:\\anaconda\\lib\\site-packages (from openai) (3.7.1)\n",
      "Requirement already satisfied: distro<2,>=1.7.0 in d:\\anaconda\\lib\\site-packages (from openai) (1.9.0)\n",
      "Requirement already satisfied: httpx<1,>=0.23.0 in d:\\anaconda\\lib\\site-packages (from openai) (0.26.0)\n",
      "Requirement already satisfied: pydantic<3,>=1.9.0 in d:\\anaconda\\lib\\site-packages (from openai) (1.10.8)\n",
      "Requirement already satisfied: sniffio in d:\\anaconda\\lib\\site-packages (from openai) (1.2.0)\n",
      "Requirement already satisfied: tqdm>4 in d:\\anaconda\\lib\\site-packages (from openai) (4.66.1)\n",
      "Requirement already satisfied: typing-extensions<5,>=4.7 in d:\\anaconda\\lib\\site-packages (from openai) (4.8.0)\n",
      "Requirement already satisfied: idna>=2.8 in d:\\anaconda\\lib\\site-packages (from anyio<5,>=3.5.0->openai) (3.4)\n",
      "Requirement already satisfied: certifi in d:\\anaconda\\lib\\site-packages (from httpx<1,>=0.23.0->openai) (2023.7.22)\n",
      "Requirement already satisfied: httpcore==1.* in d:\\anaconda\\lib\\site-packages (from httpx<1,>=0.23.0->openai) (1.0.2)\n",
      "Requirement already satisfied: h11<0.15,>=0.13 in d:\\anaconda\\lib\\site-packages (from httpcore==1.*->httpx<1,>=0.23.0->openai) (0.14.0)\n",
      "Requirement already satisfied: colorama in d:\\anaconda\\lib\\site-packages (from tqdm>4->openai) (0.4.6)\n",
      "Downloading openai-1.23.1-py3-none-any.whl (310 kB)\n",
      "   ---------------------------------------- 0.0/311.0 kB ? eta -:--:--\n",
      "   - -------------------------------------- 10.2/311.0 kB ? eta -:--:--\n",
      "   --- ------------------------------------ 30.7/311.0 kB 1.3 MB/s eta 0:00:01\n",
      "   ------- ------------------------------- 61.4/311.0 kB 544.7 kB/s eta 0:00:01\n",
      "   ---------- ---------------------------- 81.9/311.0 kB 657.6 kB/s eta 0:00:01\n",
      "   --------------- ---------------------- 122.9/311.0 kB 722.1 kB/s eta 0:00:01\n",
      "   -------------------- ----------------- 163.8/311.0 kB 701.4 kB/s eta 0:00:01\n",
      "   --------------------- ---------------- 174.1/311.0 kB 615.9 kB/s eta 0:00:01\n",
      "   ----------------------- -------------- 194.6/311.0 kB 588.9 kB/s eta 0:00:01\n",
      "   --------------------------- ---------- 225.3/311.0 kB 573.4 kB/s eta 0:00:01\n",
      "   ------------------------------ ------- 245.8/311.0 kB 580.1 kB/s eta 0:00:01\n",
      "   --------------------------------- ---- 276.5/311.0 kB 567.7 kB/s eta 0:00:01\n",
      "   ----------------------------------- -- 286.7/311.0 kB 553.0 kB/s eta 0:00:01\n",
      "   -------------------------------------- 311.0/311.0 kB 549.8 kB/s eta 0:00:00\n",
      "Installing collected packages: openai\n",
      "  Attempting uninstall: openai\n",
      "    Found existing installation: openai 1.9.0\n",
      "    Uninstalling openai-1.9.0:\n",
      "      Successfully uninstalled openai-1.9.0\n",
      "Successfully installed openai-1.23.1\n"
     ]
    }
   ],
   "source": [
    "!pip install --upgrade openai #注意每次GPT版本更新"
   ]
  },
  {
   "cell_type": "code",
   "execution_count": 11,
   "id": "06102d7a",
   "metadata": {},
   "outputs": [],
   "source": [
    "from openai import OpenAI\n",
    "import os\n",
    "import csv\n",
    "\n",
    "\n",
    "from dotenv import load_dotenv, find_dotenv\n",
    "_ = load_dotenv(find_dotenv()) # read local .env file\n"
   ]
  },
  {
   "cell_type": "code",
   "execution_count": 12,
   "id": "6f265741",
   "metadata": {},
   "outputs": [],
   "source": [
    "#重新定义调用gpt的函数\n",
    "def get_response(prompt):\n",
    "    \n",
    "    messages = [ {\"role\":\"user\", \"content\": prompt} ]\n",
    "    \n",
    "    client = OpenAI(api_key=  'MY_OPENAI_API_KEY')\n",
    "    \n",
    "    response = client.chat.completions.create(\n",
    "        model = \"gpt-4\",\n",
    "        messages = messages,\n",
    "        temperature = 0.1\n",
    "        )\n",
    "    \n",
    "    return response.choices[0].message.content.strip( ) # 只选择结果中gpt回复我们的话"
   ]
  },
  {
   "cell_type": "code",
   "execution_count": 13,
   "id": "e792281d",
   "metadata": {},
   "outputs": [],
   "source": [
    "#打开之前存好的有效网址表格\n",
    "\n",
    "f = open('doc_and_postdoc/doc/valid_page.csv')\n",
    "csv_reader = csv.reader(f)\n",
    "\n",
    "valid_page = []\n",
    "\n",
    "index = 0\n",
    "for line in csv_reader:\n",
    "    if index != 0:\n",
    "        valid_page.append(line[0])\n",
    "    \n",
    "    index +=1"
   ]
  },
  {
   "cell_type": "code",
   "execution_count": 14,
   "id": "ec2532a8",
   "metadata": {},
   "outputs": [
    {
     "name": "stdout",
     "output_type": "stream",
     "text": [
      "['https://kth.varbi.com/en/what:job/jobID:714021/type:job/where:51/apply:1', 'https://www.ncl.ac.uk/postgraduate/fees-funding/search-funding/?code=ph044', 'https://www.bcu.ac.uk/research/our-phds/phd-opportunities/the-impact-of-alternative-active-travel-on-peoples-sport-health-and-mobile-lives', 'https://efzu.fa.em2.oraclecloud.com/hcmUI/CandidateExperience/en/sites/CX_1/job/3173/', 'https://kth.varbi.com/en/what:job/jobID:714397/type:job/where:51/apply:1', 'https://vacatures.uva.nl/UvA/job/PhD-Biodiverse-Urban-Waterfronts/792378702/', 'https://www.kth.se/lediga-jobb/706790?l=en', 'https://www.ru.nl/en/working-at/job-opportunities/phd-candidate-spatial-planning-and-flood-risk-management', 'https://www.ncl.ac.uk/postgraduate/fees-funding/search-funding/?code=ph047', 'https://www.academictransfer.com/en/338098/phd-position-in-public-economics-of-housing-10-fte/?utm_source=ATemailalert&utm_medium=email&utm_campaign=job_click', 'https://www.uu.nl/en/organisation/working-at-utrecht-university/jobs/three-phd-positions-on-delta-adaptation', 'https://www.jobs.ac.uk/job/DFY185/phd-studentship-in-shaping-healthy-urban-environments-from-the-microbiome-to-the-metropololis', 'https://www.eur.nl/en/vacancies/phd-position-digital-heritage', 'https://vacatures.uva.nl/UvA/job/Open-PhD-Position-Multimodal-Experimentations-in-More-Than-Human-Anthropology/792670802/', 'https://www.eur.nl/en/vacancies/phd-position-cultural-mediators', 'https://www.ugent.be/en/work/scientific/doctoral-fellow-14', 'https://www.lboro.ac.uk/study/postgraduate/research-degrees/phd-opportunities/advancing-public-service-design/', 'https://www.lboro.ac.uk/study/postgraduate/research-degrees/phd-opportunities/impact-of-new-technologies-on-creative-industries/']\n"
     ]
    }
   ],
   "source": [
    "print(valid_page)"
   ]
  },
  {
   "cell_type": "code",
   "execution_count": 15,
   "id": "93f75e32",
   "metadata": {},
   "outputs": [
    {
     "name": "stdout",
     "output_type": "stream",
     "text": [
      "18\n"
     ]
    }
   ],
   "source": [
    "#打开之前存好的各个学校文本数据\n",
    "\n",
    "folder_path = \"doc_and_postdoc/doc\"\n",
    "\n",
    "txt_contents = []\n",
    "txt_summarized_list = []\n",
    "\n",
    "for filename in os.listdir(folder_path):\n",
    "    if filename.endswith(\".txt\"):\n",
    "        filepath = os.path.join(folder_path, filename)\n",
    "        with open(filepath, 'r', encoding = 'utf-8') as file:\n",
    "            txt_contents.append(file.read())\n",
    "            \n",
    "print(len(txt_contents))"
   ]
  },
  {
   "cell_type": "code",
   "execution_count": 16,
   "id": "8394d3f1",
   "metadata": {},
   "outputs": [
    {
     "name": "stdout",
     "output_type": "stream",
     "text": [
      "7648\n",
      "4323\n",
      "5095\n",
      "8097\n",
      "7570\n",
      "9955\n",
      "7894\n",
      "10442\n",
      "3520\n",
      "4217\n",
      "7482\n",
      "3893\n",
      "8675\n",
      "9259\n",
      "10041\n",
      "9161\n",
      "3784\n",
      "4073\n"
     ]
    }
   ],
   "source": [
    "#查看每个网页的字数，过少或者过多的证明爬取有问题\n",
    "for i in range(len(txt_contents)):\n",
    "    print(len(txt_contents[i]))"
   ]
  },
  {
   "cell_type": "code",
   "execution_count": null,
   "id": "f3d4a9a6",
   "metadata": {},
   "outputs": [],
   "source": []
  },
  {
   "cell_type": "code",
   "execution_count": 19,
   "id": "f411293e",
   "metadata": {
    "scrolled": false
   },
   "outputs": [
    {
     "name": "stdout",
     "output_type": "stream",
     "text": [
      "processing:1/18\n",
      "----done\n",
      "processing:2/18\n",
      "----done\n",
      "processing:3/18\n",
      "----done\n",
      "processing:4/18\n",
      "----done\n",
      "processing:5/18\n",
      "----done\n",
      "processing:6/18\n",
      "----done\n",
      "processing:7/18\n",
      "----done\n",
      "processing:8/18\n",
      "----done\n",
      "processing:9/18\n",
      "----done\n",
      "processing:10/18\n",
      "----done\n",
      "processing:11/18\n",
      "----done\n",
      "processing:12/18\n",
      "----done\n",
      "processing:13/18\n",
      "----done\n",
      "processing:14/18\n",
      "----done\n",
      "processing:15/18\n",
      "----done\n",
      "processing:16/18\n",
      "----done\n",
      "processing:17/18\n",
      "----done\n",
      "processing:18/18\n",
      "----done\n",
      "All done\n"
     ]
    }
   ],
   "source": [
    "\n",
    "for i in range(len(txt_contents)):\n",
    "    prompt = f\"\"\"\n",
    "    \n",
    "    You are helping your chinese clients to quickly extract information from PhD positions from website. \n",
    "    Please summarize them with the following format below:\n",
    "    ```\n",
    "    岗位名称：\n",
    "    岗位类型：\n",
    "    岗位信息概述：\n",
    "    雇主：\n",
    "    所属系/学院/研究组：\n",
    "    研究关键词：\n",
    "    相关背景与技能要求：\n",
    "    岗位时长与薪资：\n",
    "    申请截止日期：\n",
    "    ```\n",
    "    And here is the example: \n",
    "    ```\n",
    "    岗位名称：城市交通规划方向博士\n",
    "    \n",
    "    岗位类型：博士\n",
    "    \n",
    "    岗位信息概述： 此博士职位旨在通过设计创新方法和算法来提高共享出行系统的操作效率。研究重点包括匹配、定价、车辆重定位和路线规划等关键优化决策，以应对这些系统中供需的随机性、非稳定性，以及操作决策的时间和地点依赖性。成功的研究将有助于实现更高效、可持续和公平的交通未来。\n",
    "\n",
    "    雇主： Delft University of Technology（代尔夫特理工大学）\n",
    "    所属系/学院/研究组： Faculty Civil Engineering & Geosciences（土木工程与地球科学学院）\n",
    "    研究关键词： 共享出行系统，操作效率优化，匹配算法，定价策略，车辆重定位，路线规划\n",
    "\n",
    "    相关背景与技能要求：\n",
    "    应用数学、运筹学、计算机科学、工业工程或交通工程等领域的硕士学位，具备强大的优化和数学建模背景。\n",
    "    对技术思维、与实践密切合作的科学研究、学习新工具充满热情，精通编程语言（首选Python）。\n",
    "    岗位时长与薪资： 四年，工资首年为每月EUR 2,770（税前），并逐年增长，将在最后一年增至EUR 3,539（税前）。此外还提供福利待遇，包括8%的假期津贴和8.3%的年终奖金。\n",
    "\n",
    "    申请截止日期： 2023/11/12\n",
    "    ```\n",
    " \n",
    "    Be aware:\n",
    "    Do not copy the example.\n",
    "    For the \"岗位名称\", you should summarize it into around 10-15 Chinese words, and the position name in original language if avaliable.\n",
    "    For the \"雇主\" and the \"所属系/学院/研究组\" , you should provide the both original language and Chinese.\n",
    "    For the \"岗位信息概述\" and the \"相关背景与技能要求\" part, it should be less than around 150 Chinese charactors.\n",
    "    \n",
    "    The information is download from website, and there are many not related information will disturb and confuse you.\n",
    "    Please distinguish what are useful information for PhD/Post-Doc positions, and what are the useless infromation and element from website.\n",
    "    Please note that, Some websites are invalid, please do not make the information up.\n",
    "\n",
    "    Here is the PhD/Post-Doc positions information ```{txt_contents[i]}```\n",
    "    \"\"\"\n",
    "\n",
    "    print(\"processing:\" + str(i+1) + \"/\" + str(len(txt_contents)))\n",
    "    response = get_response(prompt)\n",
    "    head_text = \"[\"+ str(i+1) + \"]\"+\"\\n\\n\"\n",
    "    end_text = \"\\n\\n\" + \"网页链接： \" + valid_page[i] + \"\\n\\n\\n\\n\"\n",
    "    \n",
    "    this_Text = head_text + response + end_text\n",
    "    \n",
    "    txt_summarized_list.append(this_Text)\n",
    "    \n",
    "    # 定义文件名及其路径\n",
    "    file_name = f'gpt_summarized_{i}.txt'  \n",
    "    file_path = os.path.join('doc_and_postdoc/doc/summary', file_name)\n",
    "\n",
    "    # 将内容写入文件\n",
    "    with open(file_path, 'w', encoding='utf-8') as file:\n",
    "        file.write(this_Text)\n",
    "    \n",
    "    print(\"----done\")\n",
    "    \n",
    "print(\"All done\")"
   ]
  },
  {
   "cell_type": "code",
   "execution_count": null,
   "id": "9c521d46",
   "metadata": {
    "scrolled": true
   },
   "outputs": [],
   "source": []
  }
 ],
 "metadata": {
  "kernelspec": {
   "display_name": "Python 3 (ipykernel)",
   "language": "python",
   "name": "python3"
  },
  "language_info": {
   "codemirror_mode": {
    "name": "ipython",
    "version": 3
   },
   "file_extension": ".py",
   "mimetype": "text/x-python",
   "name": "python",
   "nbconvert_exporter": "python",
   "pygments_lexer": "ipython3",
   "version": "3.11.5"
  }
 },
 "nbformat": 4,
 "nbformat_minor": 5
}
